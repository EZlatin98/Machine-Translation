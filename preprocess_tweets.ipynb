{
 "cells": [
  {
   "cell_type": "code",
   "execution_count": 1,
   "metadata": {},
   "outputs": [],
   "source": [
    "import json\n",
    "import re\n",
    "import pandas as pd \n",
    "import numpy as np"
   ]
  },
  {
   "cell_type": "code",
   "execution_count": 2,
   "metadata": {},
   "outputs": [],
   "source": [
    "def deEmojify(inputString):\n",
    "    return inputString.encode('ascii', 'ignore').decode('ascii')\n",
    "tweets = []\n",
    "count = 0\n",
    "bad_format = 0\n",
    "bad_format_text = []\n",
    "files = ['test.txt', 'test0.txt', 'test25.txt', 'test50.txt','test75.txt', \n",
    "         'test100.txt','test125.txt', 'test150.txt','test175.txt',\n",
    "         'test200.txt','test225.txt','test250.txt']\n",
    "for file in files:\n",
    "    with open(file) as fp:\n",
    "        line = fp.readline()\n",
    "        while line:\n",
    "            count += 1\n",
    "            line = line.split(\",{\")\n",
    "            line = \"{\" + line[1]\n",
    "            line = deEmojify(line.replace(\"\\'\", \"\\\"\"))\n",
    "            line = line.replace(\"False\", \"\\\"False\\\"\").replace(\"True\", \"\\\"True\\\"\").replace(\"None\", \"\\\"None\\\"\")\n",
    "            line = line.replace(\"href=\\\"http:\", \"href='http:\").replace(\"\\\\xa0\", \" \")\n",
    "            line = re.sub('\\\"source.*?,', '', line)\n",
    "            try:\n",
    "                y = json.loads(line)\n",
    "                tweets.append(y)\n",
    "            except:\n",
    "                bad_format += 1\n",
    "                bad_format_text.append(line)\n",
    "                pass\n",
    "            line = fp.readline()\n",
    "#         print(line)\n",
    "        \n",
    "#         print(y[\"full_text\"])\n",
    "    #     while line:\n",
    "    #         line = fp.readline()\n"
   ]
  },
  {
   "cell_type": "code",
   "execution_count": 3,
   "metadata": {},
   "outputs": [
    {
     "name": "stdout",
     "output_type": "stream",
     "text": [
      "count 31201\n",
      "bad_format 11122\n"
     ]
    }
   ],
   "source": [
    "print(\"count\", count)\n",
    "print(\"bad_format\", bad_format)"
   ]
  },
  {
   "cell_type": "code",
   "execution_count": 4,
   "metadata": {},
   "outputs": [
    {
     "name": "stdout",
     "output_type": "stream",
     "text": [
      "{\"created_at\": \"Tue Apr 14 00:57:07 +0000 2020\", \"id\": 1249864224853176330, \"id_str\": \"1249864224853176330\", \"full_text\": \"Trump\\\"s meltdown!.. Speechless!\\nHere\\\"s @PaulaReidCBS grilling Trump on what his administration did in the month (feb.) leading up to the coronavirus crisis.\\n\\n\"You didn\\\"t use it to prepare hospitals. You didn\\\"t use it to ramp up testing.\" https://t.co/U8oJSaNS9f\", \"truncated\": \"False\", \"display_text_range\": [0, 261], \"metadata\": {\"iso_language_code\": \"en\", \"result_type\": \"recent\"},  \"in_reply_to_status_id\": \"None\", \"in_reply_to_status_id_str\": \"None\", \"in_reply_to_user_id\": \"None\", \"in_reply_to_user_id_str\": \"None\", \"in_reply_to_screen_name\": \"None\", \"user\": {\"id\": 1240665015277010944, \"id_str\": \"1240665015277010944\", \"name\": \"Callix \", \"screen_name\": \"CallixBJr\", \"location\": \"Paris, TX\", \"description\": \"I\"m the best father in the world , a smile seeker, traveller, dancer (Salsa & Lindy Hop), foodie, french wine lover and a get it done kinda guy..\", \"url\": \"None\", \"entities\": {\"description\": {\"urls\": []}}, \"protected\": \"False\", \"followers_count\": 1314, \"friends_count\": 1619, \"listed_count\": 0, \"created_at\": \"Thu Mar 19 15:43:07 +0000 2020\", \"favourites_count\": 2895, \"utc_offset\": \"None\", \"time_zone\": \"None\", \"geo_enabled\": \"False\", \"verified\": \"False\", \"statuses_count\": 1575, \"lang\": \"None\", \"contributors_enabled\": \"False\", \"is_translator\": \"False\", \"is_translation_enabled\": \"False\", \"profile_background_color\": \"F5F8FA\", \"profile_background_image_url\": \"None\", \"profile_background_image_url_https\": \"None\", \"profile_background_tile\": \"False\", \"profile_image_url\": \"http://pbs.twimg.com/profile_images/1240671856291647488/zTvg0oEs_normal.jpg\", \"profile_image_url_https\": \"https://pbs.twimg.com/profile_images/1240671856291647488/zTvg0oEs_normal.jpg\", \"profile_banner_url\": \"https://pbs.twimg.com/profile_banners/1240665015277010944/1584642942\", \"profile_link_color\": \"1DA1F2\", \"profile_sidebar_border_color\": \"C0DEED\", \"profile_sidebar_fill_color\": \"DDEEF6\", \"profile_text_color\": \"333333\", \"profile_use_background_image\": \"True\", \"has_extended_profile\": \"False\", \"default_profile\": \"True\", \"default_profile_image\": \"False\", \"following\": \"False\", \"follow_request_sent\": \"False\", \"notifications\": \"False\", \"translator_type\": \"none\"}, \"geo\": \"None\", \"coordinates\": \"None\", \"place\": \"None\", \"contributors\": \"None\", \"is_quote_status\": \"False\", \"retweet_count\": 0, \"favorite_count\": 0, \"favorited\": \"False\", \"retweeted\": \"False\", \"possibly_sensitive\": \"False\", \"lang\": \"en\"}\n",
      "\n"
     ]
    }
   ],
   "source": [
    "print(bad_format_text[0])"
   ]
  },
  {
   "cell_type": "code",
   "execution_count": null,
   "outputs": [],
   "source": [],
   "metadata": {
    "collapsed": false,
    "pycharm": {
     "name": "#%%\n"
    }
   }
  },
  {
   "cell_type": "code",
   "execution_count": null,
   "outputs": [],
   "source": [
    "county_pop = pd.read_csv(\"county_pop.csv\")\n",
    "county_pop.head()\n"
   ],
   "metadata": {
    "collapsed": false,
    "pycharm": {
     "name": "#%%\n"
    }
   }
  },
  {
   "cell_type": "code",
   "execution_count": null,
   "outputs": [],
   "source": [],
   "metadata": {
    "collapsed": false,
    "pycharm": {
     "name": "#%%\n"
    }
   }
  },
  {
   "cell_type": "code",
   "execution_count": null,
   "outputs": [],
   "source": [
    "# https://usafacts.org/visualizations/coronavirus-covid-19-spread-map/\n",
    "confirmed_covid = pd.read_csv(\"confirmed_covid.csv\")\n",
    "confirmed_covid.head()\n",
    "confirmed_4_21 = confirmed_covid[['County Name', 'State', '4/21/20']]\n",
    "confirmed_4_21.head()"
   ],
   "metadata": {
    "collapsed": false,
    "pycharm": {
     "name": "#%%\n"
    }
   }
  },
  {
   "cell_type": "code",
   "execution_count": null,
   "metadata": {},
   "outputs": [],
   "source": [
    "# https://usafacts.org/visualizations/coronavirus-covid-19-spread-map/\n",
    "confirmed_covid = pd.read_csv(\"confirmed_covid.csv\")\n",
    "confirmed_covid.head()\n",
    "confirmed_4_21 = confirmed_covid[['County Name', 'State', '4/21/20']]\n",
    "confirmed_4_21.head()"
   ]
  },
  {
   "cell_type": "code",
   "execution_count": 12,
   "metadata": {},
   "outputs": [
    {
     "data": {
      "text/html": [
       "<div>\n",
       "<style scoped>\n",
       "    .dataframe tbody tr th:only-of-type {\n",
       "        vertical-align: middle;\n",
       "    }\n",
       "\n",
       "    .dataframe tbody tr th {\n",
       "        vertical-align: top;\n",
       "    }\n",
       "\n",
       "    .dataframe thead th {\n",
       "        text-align: right;\n",
       "    }\n",
       "</style>\n",
       "<table border=\"1\" class=\"dataframe\">\n",
       "  <thead>\n",
       "    <tr style=\"text-align: right;\">\n",
       "      <th></th>\n",
       "      <th>countyFIPS</th>\n",
       "      <th>County Name</th>\n",
       "      <th>State</th>\n",
       "      <th>population</th>\n",
       "    </tr>\n",
       "  </thead>\n",
       "  <tbody>\n",
       "    <tr>\n",
       "      <td>0</td>\n",
       "      <td>0</td>\n",
       "      <td>Statewide Unallocated</td>\n",
       "      <td>AL</td>\n",
       "      <td>0</td>\n",
       "    </tr>\n",
       "    <tr>\n",
       "      <td>1</td>\n",
       "      <td>1001</td>\n",
       "      <td>Autauga County</td>\n",
       "      <td>AL</td>\n",
       "      <td>55869</td>\n",
       "    </tr>\n",
       "    <tr>\n",
       "      <td>2</td>\n",
       "      <td>1003</td>\n",
       "      <td>Baldwin County</td>\n",
       "      <td>AL</td>\n",
       "      <td>223234</td>\n",
       "    </tr>\n",
       "    <tr>\n",
       "      <td>3</td>\n",
       "      <td>1005</td>\n",
       "      <td>Barbour County</td>\n",
       "      <td>AL</td>\n",
       "      <td>24686</td>\n",
       "    </tr>\n",
       "    <tr>\n",
       "      <td>4</td>\n",
       "      <td>1007</td>\n",
       "      <td>Bibb County</td>\n",
       "      <td>AL</td>\n",
       "      <td>22394</td>\n",
       "    </tr>\n",
       "  </tbody>\n",
       "</table>\n",
       "</div>"
      ],
      "text/plain": [
       "   countyFIPS            County Name State  population\n",
       "0           0  Statewide Unallocated    AL           0\n",
       "1        1001         Autauga County    AL       55869\n",
       "2        1003         Baldwin County    AL      223234\n",
       "3        1005         Barbour County    AL       24686\n",
       "4        1007            Bibb County    AL       22394"
      ]
     },
     "execution_count": 12,
     "metadata": {},
     "output_type": "execute_result"
    }
   ],
   "source": [
    "county_pop = pd.read_csv(\"county_pop.csv\")\n",
    "county_pop.head()\n"
   ]
  },
  {
   "cell_type": "code",
   "execution_count": null,
   "metadata": {},
   "outputs": [],
   "source": []
  },
  {
   "cell_type": "code",
   "execution_count": 14,
   "metadata": {},
   "outputs": [
    {
     "data": {
      "text/html": [
       "<div>\n",
       "<style scoped>\n",
       "    .dataframe tbody tr th:only-of-type {\n",
       "        vertical-align: middle;\n",
       "    }\n",
       "\n",
       "    .dataframe tbody tr th {\n",
       "        vertical-align: top;\n",
       "    }\n",
       "\n",
       "    .dataframe thead th {\n",
       "        text-align: right;\n",
       "    }\n",
       "</style>\n",
       "<table border=\"1\" class=\"dataframe\">\n",
       "  <thead>\n",
       "    <tr style=\"text-align: right;\">\n",
       "      <th></th>\n",
       "      <th>County Name</th>\n",
       "      <th>State</th>\n",
       "      <th>4/21/20</th>\n",
       "    </tr>\n",
       "  </thead>\n",
       "  <tbody>\n",
       "    <tr>\n",
       "      <td>0</td>\n",
       "      <td>Statewide Unallocated</td>\n",
       "      <td>AL</td>\n",
       "      <td>0.0</td>\n",
       "    </tr>\n",
       "    <tr>\n",
       "      <td>1</td>\n",
       "      <td>Autauga County</td>\n",
       "      <td>AL</td>\n",
       "      <td>30.0</td>\n",
       "    </tr>\n",
       "    <tr>\n",
       "      <td>2</td>\n",
       "      <td>Baldwin County</td>\n",
       "      <td>AL</td>\n",
       "      <td>123.0</td>\n",
       "    </tr>\n",
       "    <tr>\n",
       "      <td>3</td>\n",
       "      <td>Barbour County</td>\n",
       "      <td>AL</td>\n",
       "      <td>28.0</td>\n",
       "    </tr>\n",
       "    <tr>\n",
       "      <td>4</td>\n",
       "      <td>Bibb County</td>\n",
       "      <td>AL</td>\n",
       "      <td>32.0</td>\n",
       "    </tr>\n",
       "  </tbody>\n",
       "</table>\n",
       "</div>"
      ],
      "text/plain": [
       "             County Name State  4/21/20\n",
       "0  Statewide Unallocated    AL      0.0\n",
       "1         Autauga County    AL     30.0\n",
       "2         Baldwin County    AL    123.0\n",
       "3         Barbour County    AL     28.0\n",
       "4            Bibb County    AL     32.0"
      ]
     },
     "execution_count": 14,
     "metadata": {},
     "output_type": "execute_result"
    }
   ],
   "source": [
    "# https://usafacts.org/visualizations/coronavirus-covid-19-spread-map/\n",
    "confirmed_covid = pd.read_csv(\"confirmed_covid.csv\")\n",
    "confirmed_covid.head()\n",
    "confirmed_4_21 = confirmed_covid[['County Name', 'State', '4/21/20']]\n",
    "confirmed_4_21.head()"
   ]
  }
 ],
 "metadata": {
  "kernelspec": {
   "display_name": "Python 3",
   "language": "python",
   "name": "python3"
  },
  "language_info": {
   "codemirror_mode": {
    "name": "ipython",
    "version": 3
   },
   "file_extension": ".py",
   "mimetype": "text/x-python",
   "name": "python",
   "nbconvert_exporter": "python",
   "pygments_lexer": "ipython3",
   "version": "3.7.4"
  },
  "pycharm": {
   "stem_cell": {
    "cell_type": "raw",
    "source": [],
    "metadata": {
     "collapsed": false
    }
   }
  }
 },
 "nbformat": 4,
 "nbformat_minor": 2
}