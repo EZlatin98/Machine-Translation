{
 "cells": [
  {
   "cell_type": "code",
   "execution_count": 45,
   "metadata": {},
   "outputs": [],
   "source": [
    "import json\n",
    "import re"
   ]
  },
  {
   "cell_type": "code",
   "execution_count": 62,
   "metadata": {},
   "outputs": [],
   "source": [
    "def deEmojify(inputString):\n",
    "    return inputString.encode('ascii', 'ignore').decode('ascii')\n",
    "tweets = []\n",
    "count = 0\n",
    "bad_format = 0\n",
    "bad_format_text = []\n",
    "files = ['test.txt', 'test0.txt', 'test25.txt', 'test50.txt','test75.txt', \n",
    "         'test100.txt','test125.txt', 'test150.txt','test175.txt',\n",
    "         'test200.txt','test225.txt','test250.txt']\n",
    "for file in files:\n",
    "    with open(file) as fp:\n",
    "        line = fp.readline()\n",
    "        while line:\n",
    "            count += 1\n",
    "            line = line.split(\",{\")\n",
    "            line = \"{\" + line[1]\n",
    "            line = deEmojify(line.replace(\"\\'\", \"\\\"\"))\n",
    "            line = line.replace(\"False\", \"\\\"False\\\"\").replace(\"True\", \"\\\"True\\\"\").replace(\"None\", \"\\\"None\\\"\")\n",
    "            line = line.replace(\"href=\\\"http:\", \"href='http:\").replace(\"\\\\xa0\", \" \")\n",
    "            line = re.sub('\\\"source.*?,', '', line)\n",
    "            try:\n",
    "                y = json.loads(line)\n",
    "                tweets.append(y)\n",
    "            except:\n",
    "                bad_format += 1\n",
    "                bad_format_text.append(line)\n",
    "                pass\n",
    "            line = fp.readline()\n",
    "#         print(line)\n",
    "        \n",
    "#         print(y[\"full_text\"])\n",
    "    #     while line:\n",
    "    #         line = fp.readline()\n"
   ]
  },
  {
   "cell_type": "code",
   "execution_count": 63,
   "metadata": {},
   "outputs": [
    {
     "name": "stdout",
     "output_type": "stream",
     "text": [
      "count 32058\n",
      "exceptions 11334\n"
     ]
    }
   ],
   "source": [
    "print(\"count\", count)\n",
    "print(\"exceptions\", exceptions)"
   ]
  }
 ],
 "metadata": {
  "kernelspec": {
   "display_name": "Python 3",
   "language": "python",
   "name": "python3"
  },
  "language_info": {
   "codemirror_mode": {
    "name": "ipython",
    "version": 3
   },
   "file_extension": ".py",
   "mimetype": "text/x-python",
   "name": "python",
   "nbconvert_exporter": "python",
   "pygments_lexer": "ipython3",
   "version": "3.7.4"
  }
 },
 "nbformat": 4,
 "nbformat_minor": 2
}
