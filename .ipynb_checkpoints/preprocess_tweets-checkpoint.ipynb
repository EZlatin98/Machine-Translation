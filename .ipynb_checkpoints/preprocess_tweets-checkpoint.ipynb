{
 "cells": [
  {
   "cell_type": "code",
   "execution_count": 1,
   "metadata": {},
   "outputs": [],
   "source": [
    "import json"
   ]
  },
  {
   "cell_type": "code",
   "execution_count": null,
   "metadata": {},
   "outputs": [],
   "source": [
    "filepath = 'rosalind_ba8c.txt'\n",
    "\n",
    "with open(filepath) as fp:\n",
    "    line = fp.readline()\n",
    "    line = line.split(\" \")\n",
    "    line[len(line) - 1] = line[len(line) - 1].rstrip()\n",
    "    k = int(line[0])\n",
    "    m = int(line[1])\n",
    "    line = fp.readline()\n",
    "    while line:\n",
    "        x = line.split(\" \")\n",
    "        line = fp.readline()\n"
   ]
  }
 ],
 "metadata": {
  "kernelspec": {
   "display_name": "Python 3",
   "language": "python",
   "name": "python3"
  },
  "language_info": {
   "codemirror_mode": {
    "name": "ipython",
    "version": 3
   },
   "file_extension": ".py",
   "mimetype": "text/x-python",
   "name": "python",
   "nbconvert_exporter": "python",
   "pygments_lexer": "ipython3",
   "version": "3.7.4"
  }
 },
 "nbformat": 4,
 "nbformat_minor": 2
}
